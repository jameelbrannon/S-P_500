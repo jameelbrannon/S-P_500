{
 "cells": [
  {
   "cell_type": "code",
   "execution_count": null,
   "id": "723e0b60-67ed-43c0-90a9-8270ac32137d",
   "metadata": {},
   "outputs": [],
   "source": [
    "%load_ext sql"
   ]
  },
  {
   "cell_type": "code",
   "execution_count": null,
   "id": "30d92e67-5ec6-497f-a7ff-098617f3c3f5",
   "metadata": {},
   "outputs": [],
   "source": [
    "import csv, sqlite3\n",
    "con = sqlite3.connect(\"socioeconomic.db\")\n",
    "cur = con.cursor()\n",
    "%sql sqlite:///socioeconomic.db"
   ]
  },
  {
   "cell_type": "markdown",
   "id": "b9284a55-c99a-4778-9b04-c6c2a448c585",
   "metadata": {},
   "source": [
    "# Get data in table"
   ]
  },
  {
   "cell_type": "code",
   "execution_count": null,
   "id": "b90d82c8-afaa-474b-9693-7855fef5f9f6",
   "metadata": {},
   "outputs": [],
   "source": [
    "import pandas as pd\n",
    "df = pd.read_csv('https://data.cityofchicago.org/resource/jcxq-k9xf.csv')\n",
    "df.to_sql(\"chicago_socioeconomic_data\",con, if_exists='replace', index=False,method=\"multi\")"
   ]
  },
  {
   "cell_type": "code",
   "execution_count": null,
   "id": "cbdeebf8-f64f-4a76-8447-b09e1f173513",
   "metadata": {},
   "outputs": [],
   "source": [
    "%%sql \n",
    "-- How many rows are in the dataset?\n",
    "select count(*) FROM chicago_socioeconomic_data limit 5; \n",
    "-- How many community areas in Chicago have a hardship index greater than 50.0?\n",
    "-- select count(community_area_name) from chicago_socioeconomic_data where hardship_index > 50.0\n",
    "-- What is the maximum value of hardship index in this dataset?\n",
    "-- select max(hardship_index) from chicago_socioeconomic_data;\n",
    "-- Which community area which has the highest hardship index?\n",
    "-- select community_area_name, max(hardship_index) from chicago_socioeconomic_data;\n",
    "-- Which Chicago community areas have per-capita incomes greater than $60,000?\n",
    "-- select community_area_name from chicago_socioeconomic_data where per_capita_income_ > 60000;"
   ]
  },
  {
   "cell_type": "code",
   "execution_count": null,
   "id": "aac0b07c-90a7-4a32-8984-f471ae371318",
   "metadata": {
    "scrolled": true
   },
   "outputs": [],
   "source": [
    "import matplotlib.pyplot as plt\n",
    "%matplotlib inline\n",
    "import seaborn as sns\n",
    "\n",
    "income_vs_hardship = %sql SELECT per_capita_income_, hardship_index FROM chicago_socioeconomic_data;\n",
    "plot = sns.jointplot(x='per_capita_income_',y='hardship_index', data=income_vs_hardship.DataFrame())"
   ]
  },
  {
   "cell_type": "code",
   "execution_count": null,
   "id": "4a59db67-b717-4506-8978-1c482cc643c1",
   "metadata": {},
   "outputs": [],
   "source": [
    "income_vs_hardship"
   ]
  },
  {
   "cell_type": "code",
   "execution_count": null,
   "id": "6aab022e-c77e-49b7-b590-7906b61bdfe9",
   "metadata": {},
   "outputs": [],
   "source": [
    "import plotly.express as px\n",
    "df = income_vs_hardship\n",
    "fig = px.scatter(df, x='per_capita_income_',y='hardship_index')\n",
    "fig.show()"
   ]
  },
  {
   "cell_type": "code",
   "execution_count": null,
   "id": "d3ae447e-4d30-4efe-8cc4-f89cfff1cc34",
   "metadata": {},
   "outputs": [],
   "source": [
    "income_vs_households = %sql SELECT per_capita_income_, percent_households_below_poverty FROM chicago_socioeconomic_data;"
   ]
  },
  {
   "cell_type": "code",
   "execution_count": null,
   "id": "07517875-a348-4a94-ae88-accf5ea2a80c",
   "metadata": {},
   "outputs": [],
   "source": [
    "df = income_vs_households\n",
    "fig = px.scatter(df, x='per_capita_income_',y='percent_households_below_poverty')\n",
    "fig.show()"
   ]
  },
  {
   "cell_type": "code",
   "execution_count": null,
   "id": "10880b37-55ac-4329-a5f7-f8a1be770f2a",
   "metadata": {},
   "outputs": [],
   "source": [
    "income_vs_households"
   ]
  },
  {
   "cell_type": "code",
   "execution_count": null,
   "id": "09fd62e5-1d4d-4b9f-854e-1df996093f00",
   "metadata": {},
   "outputs": [],
   "source": [
    "con.close()"
   ]
  },
  {
   "cell_type": "code",
   "execution_count": null,
   "id": "62aa5c54-d030-434b-ad0c-2483d471a1c6",
   "metadata": {},
   "outputs": [],
   "source": []
  }
 ],
 "metadata": {
  "kernelspec": {
   "display_name": "Python 3 (ipykernel)",
   "language": "python",
   "name": "python3"
  },
  "language_info": {
   "codemirror_mode": {
    "name": "ipython",
    "version": 3
   },
   "file_extension": ".py",
   "mimetype": "text/x-python",
   "name": "python",
   "nbconvert_exporter": "python",
   "pygments_lexer": "ipython3",
   "version": "3.8.10"
  }
 },
 "nbformat": 4,
 "nbformat_minor": 5
}
