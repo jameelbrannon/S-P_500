{
 "cells": [
  {
   "cell_type": "markdown",
   "id": "a26013f7-bad3-4847-9c94-159f483bf353",
   "metadata": {},
   "source": [
    "# Import Libraries"
   ]
  },
  {
   "cell_type": "code",
   "execution_count": 1,
   "id": "9fe447e3-0218-4b8d-bc8b-ee78ee979a92",
   "metadata": {},
   "outputs": [],
   "source": [
    "import pandas as pd"
   ]
  },
  {
   "cell_type": "markdown",
   "id": "ae628dd3-e213-4d45-a9bd-4b10d615a251",
   "metadata": {},
   "source": [
    "# Get Data"
   ]
  },
  {
   "cell_type": "code",
   "execution_count": 3,
   "id": "81abeabd-b5ef-450d-88c3-bf63fcbacdcf",
   "metadata": {},
   "outputs": [],
   "source": [
    "data = pd.read_html(\"https://en.wikipedia.org/wiki/List_of_S%26P_500_companies\")\n",
    "data = data[0]"
   ]
  },
  {
   "cell_type": "code",
   "execution_count": 41,
   "id": "a292f814-2745-40dc-a3b0-eaba6af8f1b2",
   "metadata": {},
   "outputs": [],
   "source": [
    "health_care_stocks = data[(data['GICS Sector'] == 'Health Care')]\n",
    "industrial_stocks = data[(data['GICS Sector'] == 'Industrial')]\n",
    "info_tech = data[(data['GICS Sector'] == 'Information Technology')]\n",
    "util = data[(data['GICS Sector'] == 'Utilities')]\n",
    "fin = data[(data['GICS Sector'] == 'Financials')]\n",
    "mat = data[(data['GICS Sector'] == 'Materials')]\n",
    "con_des = data[(data['GICS Sector'] == 'Consumer Discretionary')]\n",
    "real_estate = data[(data['GICS Sector'] == 'Real Estate')]\n",
    "coms = data[(data['GICS Sector'] == 'Communication Services')]\n",
    "staples = data[(data['GICS Sector'] == 'Consumer Staples')]\n",
    "energy = data[(data['GICS Sector'] == 'Energy')]"
   ]
  },
  {
   "cell_type": "code",
   "execution_count": null,
   "id": "e59a2622-2e85-4e13-893b-40837ccf7d79",
   "metadata": {},
   "outputs": [],
   "source": []
  }
 ],
 "metadata": {
  "kernelspec": {
   "display_name": "Python 3 (ipykernel)",
   "language": "python",
   "name": "python3"
  },
  "language_info": {
   "codemirror_mode": {
    "name": "ipython",
    "version": 3
   },
   "file_extension": ".py",
   "mimetype": "text/x-python",
   "name": "python",
   "nbconvert_exporter": "python",
   "pygments_lexer": "ipython3",
   "version": "3.8.10"
  }
 },
 "nbformat": 4,
 "nbformat_minor": 5
}
