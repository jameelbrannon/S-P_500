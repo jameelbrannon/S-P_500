{
 "cells": [
  {
   "cell_type": "markdown",
   "id": "a26013f7-bad3-4847-9c94-159f483bf353",
   "metadata": {},
   "source": [
    "# Import Libraries"
   ]
  },
  {
   "cell_type": "code",
   "execution_count": 1,
   "id": "9fe447e3-0218-4b8d-bc8b-ee78ee979a92",
   "metadata": {},
   "outputs": [],
   "source": [
    "import pandas as pd\n",
    "import sqlite3"
   ]
  },
  {
   "cell_type": "markdown",
   "id": "ae628dd3-e213-4d45-a9bd-4b10d615a251",
   "metadata": {},
   "source": [
    "# Extract and Clean Data"
   ]
  },
  {
   "cell_type": "code",
   "execution_count": 3,
   "id": "81abeabd-b5ef-450d-88c3-bf63fcbacdcf",
   "metadata": {},
   "outputs": [],
   "source": [
    "data = pd.read_html(\"https://en.wikipedia.org/wiki/List_of_S%26P_500_companies\")\n",
    "data = data[0]"
   ]
  },
  {
   "cell_type": "code",
   "execution_count": 41,
   "id": "a292f814-2745-40dc-a3b0-eaba6af8f1b2",
   "metadata": {},
   "outputs": [],
   "source": [
    "url = \"https://en.wikipedia.org/wiki/List_of_S%26P_500_companies\"\n",
    "cols = [\"Ticker\", \"Company\", \"Sector\", \"Sub_Sector\", \"HQ\", \"Date_Added\", \"CIK\", \"Year_Founded\"]\n",
    "\n",
    "def tickers():\n",
    "    ''' function to get data, clean it, and return dataframe'''\n",
    "    \n",
    "    page = pd.read_html(url)\n",
    "    data = page[0]\n",
    "    data.columns = cols\n",
    "    #print(data)\n",
    "    \n",
    "\n",
    "    return data\n",
    "    \n",
    "data = tickers()\n",
    "health_care = data[(data['Sector'] == 'Health Care')]\n",
    "industrial = data[(data['Sector'] == 'Industrials')]\n",
    "info_tech = data[(data['Sector'] == 'Information Technology')]\n",
    "util = data[(data['Sector'] == 'Utilities')]\n",
    "fin = data[(data['Sector'] == 'Financials')]\n",
    "mat = data[(data['Sector'] == 'Materials')]\n",
    "con_des = data[(data['Sector'] == 'Consumer Discretionary')]\n",
    "real_estate = data[(data['Sector'] == 'Real Estate')]\n",
    "coms = data[(data['Sector'] == 'Communication Services')]\n",
    "staples = data[(data['Sector'] == 'Consumer Staples')]\n",
    "energy = data[(data['Sector'] == 'Energy')]"
   ]
  },
  {
   "cell_type": "markdown",
   "id": "25ac9296-d81a-4496-ae48-607eed6aee49",
   "metadata": {},
   "source": [
    "# Store Data in SQL Database"
   ]
  },
  {
   "cell_type": "code",
   "execution_count": null,
   "id": "a79b3dd5-978b-4dce-9389-2129feef7430",
   "metadata": {},
   "outputs": [],
   "source": [
    "sql_connection = sqlite3.connect('Stocks.db')\n",
    "table_name = \"SP_500_Tickers\"\n",
    "table_name_health = \"Health_Care\"\n",
    "table_name_industrial = \"Industrials\"\n",
    "table_name_info_tech = \"Information_Technology\"\n",
    "table_name_util = \"Utilities\"\n",
    "table_name_fin = \"Financials\"\n",
    "table_name_mat = \"Materials\"\n",
    "table_name_con_des = \"Consumer_Discretionary\"\n",
    "table_name_re = \"Real Estate\"\n",
    "table_name_comms = \"Communication_Services\"\n",
    "table_name_consumer = \"Consumer_Staples\"\n",
    "table_name_energy = \"Energy\""
   ]
  },
  {
   "cell_type": "code",
   "execution_count": null,
   "id": "e59a2622-2e85-4e13-893b-40837ccf7d79",
   "metadata": {},
   "outputs": [],
   "source": [
    "def load_to_db(data, sql_connection, table_name):\n",
    "    '''function to load data into the table '''\n",
    "    \n",
    "    data.to_sql(table_name, sql_connection, if_exists = \"replace\", index = False)\n",
    "    health_care.to_sql(table_name_health, sql_connection, if_exists = \"replace\", index = False)\n",
    "    industrial.to_sql(table_name_industrial, sql_connection, if_exists = \"replace\", index = False)\n",
    "    info_tech.to_sql(table_name_info_tech, sql_connection, if_exists = \"replace\", index = False)\n",
    "    util.to_sql(table_name_util, sql_connection, if_exists = \"replace\", index = False)\n",
    "    fin.to_sql(table_name_fin, sql_connection, if_exists = \"replace\", index = False)\n",
    "    mat.to_sql(table_name_mat, sql_connection, if_exists = \"replace\", index = False)\n",
    "    con_des.to_sql(table_name_con_des, sql_connection, if_exists = \"replace\", index = False)\n",
    "    real_estate.to_sql(table_name_re, sql_connection, if_exists = \"replace\", index = False)\n",
    "    coms.to_sql(table_name_comms, sql_connection, if_exists = \"replace\", index = False)\n",
    "    staples.to_sql(table_name_consumer, sql_connection, if_exists = \"replace\", index = False)\n",
    "    energy.to_sql(table_name_energy, sql_connection, if_exists = \"replace\", index = False)\n",
    "    \n",
    "load_to_db(data, sql_connection, table_name)\n",
    "load_to_db(health_care, sql_connection, table_name)\n",
    "load_to_db(industrial, sql_connection, table_name)\n",
    "load_to_db(info_tech, sql_connection, table_name)\n",
    "load_to_db(util, sql_connection, table_name)\n",
    "load_to_db(fin, sql_connection, table_name)\n",
    "load_to_db(mat, sql_connection, table_name)\n",
    "load_to_db(con_des, sql_connection, table_name)\n",
    "load_to_db(real_estate, sql_connection, table_name)\n",
    "load_to_db(coms, sql_connection, table_name)\n",
    "load_to_db(staples, sql_connection, table_name)\n",
    "load_to_db(energy, sql_connection, table_name)"
   ]
  },
  {
   "cell_type": "markdown",
   "id": "fdd33de0-4417-46d0-bf10-b733a75520d0",
   "metadata": {},
   "source": [
    "# Execute Queries"
   ]
  },
  {
   "cell_type": "code",
   "execution_count": null,
   "id": "dcfd6669-1ad4-433f-a88b-35c4ab43031e",
   "metadata": {},
   "outputs": [],
   "source": [
    "#query_statement = \"SELECT *  from SP_500_Tickers order by Company;\"\n",
    "#query_statement = \"SELECT Ticker, Company, Year_Founded, Date_Added from SP_500_Tickers order by Year_Founded asc limit 10;\"\n",
    "#query_statement = \"SELECT Ticker, Company, Year_Founded from SP_500_Tickers where Year_Founded between 1800 and 1900;\"\n",
    "#query_statement = \"SELECT * from Information_Technology limit 20;\"\n",
    "#query_statement = \"SELECT company, year_founded from Information_Technology where company like 'apple%';\"\n",
    "#query_statement = f\"SELECT * from information_technology;\"\n",
    "def run_query(query_statement, sql_connection):\n",
    "    print(query_statement)\n",
    "    query_output = pd.read_sql(query_statement, sql_connection)\n",
    "    print(query_output)"
   ]
  }
 ],
 "metadata": {
  "kernelspec": {
   "display_name": "Python 3 (ipykernel)",
   "language": "python",
   "name": "python3"
  },
  "language_info": {
   "codemirror_mode": {
    "name": "ipython",
    "version": 3
   },
   "file_extension": ".py",
   "mimetype": "text/x-python",
   "name": "python",
   "nbconvert_exporter": "python",
   "pygments_lexer": "ipython3",
   "version": "3.8.10"
  }
 },
 "nbformat": 4,
 "nbformat_minor": 5
}
